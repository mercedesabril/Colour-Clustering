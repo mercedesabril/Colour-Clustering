{
 "cells": [
  {
   "cell_type": "markdown",
   "metadata": {},
   "source": [
    "# How to upload the sorted images to Tumblr"
   ]
  },
  {
   "cell_type": "code",
   "execution_count": 1,
   "metadata": {},
   "outputs": [],
   "source": [
    "import pytumblr"
   ]
  },
  {
   "cell_type": "markdown",
   "metadata": {},
   "source": [
    "Important: save the authentication keys in another file"
   ]
  },
  {
   "cell_type": "code",
   "execution_count": 2,
   "metadata": {},
   "outputs": [],
   "source": [
    "keys_file = open(\"tumblr_key.txt\")\n",
    "lines = keys_file.readlines()\n",
    "consumer_key = lines[0].rstrip()\n",
    "consumer_secret = lines[1].rstrip()\n",
    "oauth_token = lines[2].rstrip()\n",
    "oauth_secret = lines[3].rstrip()"
   ]
  },
  {
   "cell_type": "code",
   "execution_count": 3,
   "metadata": {},
   "outputs": [],
   "source": [
    "# Authenticate via OAuth\n",
    "client = pytumblr.TumblrRestClient(\n",
    "  consumer_key,\n",
    "  consumer_secret,\n",
    "  oauth_token,\n",
    "  oauth_secret\n",
    ")\n",
    "\n",
    "#client.info()"
   ]
  },
  {
   "cell_type": "markdown",
   "metadata": {},
   "source": [
    "## Load the data"
   ]
  },
  {
   "cell_type": "code",
   "execution_count": 4,
   "metadata": {},
   "outputs": [],
   "source": [
    "#import pandas as pd\n",
    "#from PIL import Image"
   ]
  },
  {
   "cell_type": "code",
   "execution_count": 5,
   "metadata": {},
   "outputs": [
    {
     "data": {
      "text/html": [
       "<div>\n",
       "<style scoped>\n",
       "    .dataframe tbody tr th:only-of-type {\n",
       "        vertical-align: middle;\n",
       "    }\n",
       "\n",
       "    .dataframe tbody tr th {\n",
       "        vertical-align: top;\n",
       "    }\n",
       "\n",
       "    .dataframe thead th {\n",
       "        text-align: right;\n",
       "    }\n",
       "</style>\n",
       "<table border=\"1\" class=\"dataframe\">\n",
       "  <thead>\n",
       "    <tr style=\"text-align: right;\">\n",
       "      <th></th>\n",
       "      <th>sorted_names</th>\n",
       "      <th>sorted_RGBcolors</th>\n",
       "    </tr>\n",
       "  </thead>\n",
       "  <tbody>\n",
       "    <tr>\n",
       "      <th>0</th>\n",
       "      <td>edc9df272ba8f3408a6e0b8adca77aab</td>\n",
       "      <td>(2, 2, 2)</td>\n",
       "    </tr>\n",
       "    <tr>\n",
       "      <th>1</th>\n",
       "      <td>8bffe092134cac84ac5affab4fb9b738</td>\n",
       "      <td>(8, 5, 4)</td>\n",
       "    </tr>\n",
       "    <tr>\n",
       "      <th>2</th>\n",
       "      <td>2c27fde2ab88cfa75ff0ec8af468c03a</td>\n",
       "      <td>(12, 4, 4)</td>\n",
       "    </tr>\n",
       "    <tr>\n",
       "      <th>3</th>\n",
       "      <td>d737259b476c60f33b9c0a6e36b962de</td>\n",
       "      <td>(20, 5, 4)</td>\n",
       "    </tr>\n",
       "    <tr>\n",
       "      <th>4</th>\n",
       "      <td>eb3793fe21d9ea837eb5e1f619bda67b</td>\n",
       "      <td>(21, 10, 7)</td>\n",
       "    </tr>\n",
       "  </tbody>\n",
       "</table>\n",
       "</div>"
      ],
      "text/plain": [
       "                       sorted_names sorted_RGBcolors\n",
       "0  edc9df272ba8f3408a6e0b8adca77aab        (2, 2, 2)\n",
       "1  8bffe092134cac84ac5affab4fb9b738        (8, 5, 4)\n",
       "2  2c27fde2ab88cfa75ff0ec8af468c03a       (12, 4, 4)\n",
       "3  d737259b476c60f33b9c0a6e36b962de       (20, 5, 4)\n",
       "4  eb3793fe21d9ea837eb5e1f619bda67b      (21, 10, 7)"
      ]
     },
     "execution_count": 5,
     "metadata": {},
     "output_type": "execute_result"
    }
   ],
   "source": [
    "df = pd.read_csv(\"collage/WithKnee.csv\")\n",
    "df.head()"
   ]
  },
  {
   "cell_type": "code",
   "execution_count": 6,
   "metadata": {},
   "outputs": [
    {
     "data": {
      "text/plain": [
       "(164, 2)"
      ]
     },
     "execution_count": 6,
     "metadata": {},
     "output_type": "execute_result"
    }
   ],
   "source": [
    "df.shape"
   ]
  },
  {
   "cell_type": "markdown",
   "metadata": {},
   "source": [
    "## Upload the images for the first time"
   ]
  },
  {
   "cell_type": "markdown",
   "metadata": {},
   "source": [
    "### First, generate the dates for each publication"
   ]
  },
  {
   "cell_type": "code",
   "execution_count": 7,
   "metadata": {},
   "outputs": [],
   "source": [
    "from datetime import date, timedelta, datetime\n",
    "\n",
    "today = date.today()\n",
    "delta = timedelta(days = len(df['sorted_names']))\n",
    "\n",
    "publication_dates = []\n",
    "for i in range(delta.days + 1):\n",
    "    dates = today - timedelta(days = i)\n",
    "    publication_dates = publication_dates + [dates.strftime(\"%Y-%m-%d, %H:%M:%S\") + ' GMT']"
   ]
  },
  {
   "cell_type": "markdown",
   "metadata": {},
   "source": [
    "### Then, publish the pictures in the given order"
   ]
  },
  {
   "cell_type": "code",
   "execution_count": 8,
   "metadata": {},
   "outputs": [],
   "source": [
    "from tumblr_tools import upload_post, edit_post, publisher"
   ]
  },
  {
   "cell_type": "code",
   "execution_count": 17,
   "metadata": {},
   "outputs": [
    {
     "data": {
      "text/html": [
       "<div>\n",
       "<style scoped>\n",
       "    .dataframe tbody tr th:only-of-type {\n",
       "        vertical-align: middle;\n",
       "    }\n",
       "\n",
       "    .dataframe tbody tr th {\n",
       "        vertical-align: top;\n",
       "    }\n",
       "\n",
       "    .dataframe thead th {\n",
       "        text-align: right;\n",
       "    }\n",
       "</style>\n",
       "<table border=\"1\" class=\"dataframe\">\n",
       "  <thead>\n",
       "    <tr style=\"text-align: right;\">\n",
       "      <th></th>\n",
       "      <th>sorted_names</th>\n",
       "      <th>sorted_RGBcolors</th>\n",
       "    </tr>\n",
       "  </thead>\n",
       "  <tbody>\n",
       "    <tr>\n",
       "      <th>151</th>\n",
       "      <td>ed23db930a46036042876c93e8892035</td>\n",
       "      <td>(216, 92, 148)</td>\n",
       "    </tr>\n",
       "    <tr>\n",
       "      <th>152</th>\n",
       "      <td>69fefa7cdef63f003286c2c0a8064d7c</td>\n",
       "      <td>(177, 128, 136)</td>\n",
       "    </tr>\n",
       "    <tr>\n",
       "      <th>153</th>\n",
       "      <td>ajo</td>\n",
       "      <td>(174, 132, 160)</td>\n",
       "    </tr>\n",
       "    <tr>\n",
       "      <th>154</th>\n",
       "      <td>99fafc0e66a78fdede1bfda2872d7b36</td>\n",
       "      <td>(206, 138, 168)</td>\n",
       "    </tr>\n",
       "    <tr>\n",
       "      <th>155</th>\n",
       "      <td>ceb</td>\n",
       "      <td>(214, 137, 182)</td>\n",
       "    </tr>\n",
       "    <tr>\n",
       "      <th>156</th>\n",
       "      <td>mousse</td>\n",
       "      <td>(168, 157, 164)</td>\n",
       "    </tr>\n",
       "    <tr>\n",
       "      <th>157</th>\n",
       "      <td>oct</td>\n",
       "      <td>(205, 158, 162)</td>\n",
       "    </tr>\n",
       "    <tr>\n",
       "      <th>158</th>\n",
       "      <td>a2cbb62b458a8eb342231de5b825015c</td>\n",
       "      <td>(205, 168, 180)</td>\n",
       "    </tr>\n",
       "    <tr>\n",
       "      <th>159</th>\n",
       "      <td>mallows</td>\n",
       "      <td>(232, 190, 199)</td>\n",
       "    </tr>\n",
       "    <tr>\n",
       "      <th>160</th>\n",
       "      <td>373cc3217e11b7059d0ec44b1480f617</td>\n",
       "      <td>(236, 191, 193)</td>\n",
       "    </tr>\n",
       "    <tr>\n",
       "      <th>161</th>\n",
       "      <td>aecd3acf09c5bf0772ab0a913a4e7eeb</td>\n",
       "      <td>(235, 196, 202)</td>\n",
       "    </tr>\n",
       "    <tr>\n",
       "      <th>162</th>\n",
       "      <td>sea</td>\n",
       "      <td>(226, 208, 212)</td>\n",
       "    </tr>\n",
       "    <tr>\n",
       "      <th>163</th>\n",
       "      <td>b64b285fd18e272b85043332f06fb499</td>\n",
       "      <td>(237, 219, 225)</td>\n",
       "    </tr>\n",
       "  </tbody>\n",
       "</table>\n",
       "</div>"
      ],
      "text/plain": [
       "                         sorted_names sorted_RGBcolors\n",
       "151  ed23db930a46036042876c93e8892035   (216, 92, 148)\n",
       "152  69fefa7cdef63f003286c2c0a8064d7c  (177, 128, 136)\n",
       "153                               ajo  (174, 132, 160)\n",
       "154  99fafc0e66a78fdede1bfda2872d7b36  (206, 138, 168)\n",
       "155                               ceb  (214, 137, 182)\n",
       "156                            mousse  (168, 157, 164)\n",
       "157                               oct  (205, 158, 162)\n",
       "158  a2cbb62b458a8eb342231de5b825015c  (205, 168, 180)\n",
       "159                           mallows  (232, 190, 199)\n",
       "160  373cc3217e11b7059d0ec44b1480f617  (236, 191, 193)\n",
       "161  aecd3acf09c5bf0772ab0a913a4e7eeb  (235, 196, 202)\n",
       "162                               sea  (226, 208, 212)\n",
       "163  b64b285fd18e272b85043332f06fb499  (237, 219, 225)"
      ]
     },
     "execution_count": 17,
     "metadata": {},
     "output_type": "execute_result"
    }
   ],
   "source": [
    "df1 = df.loc[151:]\n",
    "df1"
   ]
  },
  {
   "cell_type": "code",
   "execution_count": 18,
   "metadata": {},
   "outputs": [
    {
     "data": {
      "image/png": "[encoded data removed]",
      "text/plain": [
       "<PIL.Image.Image image mode=RGB size=128x128 at 0x7FEDCCD317F0>"
      ]
     },
     "metadata": {},
     "output_type": "display_data"
    },
    {
     "name": "stdout",
     "output_type": "stream",
     "text": [
      "\n",
      "Enter the tags for the image above separated by commas: \n",
      "\n",
      "silk, fabric\n"
     ]
    },
    {
     "ename": "KeyError",
     "evalue": "'id_string'",
     "output_type": "error",
     "traceback": [
      "\u001b[0;31m---------------------------------------------------------------------------\u001b[0m",
      "\u001b[0;31mKeyError\u001b[0m                                  Traceback (most recent call last)",
      "\u001b[0;32m<ipython-input-18-4a7a1d54fd3d>\u001b[0m in \u001b[0;36m<module>\u001b[0;34m\u001b[0m\n\u001b[1;32m      4\u001b[0m \u001b[0;34m\u001b[0m\u001b[0m\n\u001b[1;32m      5\u001b[0m \u001b[0;32mfor\u001b[0m \u001b[0mi\u001b[0m \u001b[0;32min\u001b[0m \u001b[0mdf1\u001b[0m\u001b[0;34m.\u001b[0m\u001b[0mindex\u001b[0m\u001b[0;34m:\u001b[0m\u001b[0;34m\u001b[0m\u001b[0;34m\u001b[0m\u001b[0m\n\u001b[0;32m----> 6\u001b[0;31m     \u001b[0mpublisher\u001b[0m\u001b[0;34m(\u001b[0m\u001b[0mblog\u001b[0m\u001b[0;34m,\u001b[0m \u001b[0mfolder\u001b[0m\u001b[0;34m,\u001b[0m \u001b[0mdf1\u001b[0m\u001b[0;34m[\u001b[0m\u001b[0;34m'sorted_names'\u001b[0m\u001b[0;34m]\u001b[0m\u001b[0;34m[\u001b[0m\u001b[0mi\u001b[0m\u001b[0;34m]\u001b[0m\u001b[0;34m,\u001b[0m \u001b[0mpublication_dates\u001b[0m\u001b[0;34m[\u001b[0m\u001b[0mi\u001b[0m\u001b[0;34m]\u001b[0m\u001b[0;34m,\u001b[0m \u001b[0mdf1\u001b[0m\u001b[0;34m[\u001b[0m\u001b[0;34m'sorted_RGBcolors'\u001b[0m\u001b[0;34m]\u001b[0m\u001b[0;34m[\u001b[0m\u001b[0mi\u001b[0m\u001b[0;34m]\u001b[0m\u001b[0;34m,\u001b[0m \u001b[0mcsv_file\u001b[0m\u001b[0;34m,\u001b[0m \u001b[0mclient\u001b[0m\u001b[0;34m)\u001b[0m\u001b[0;34m\u001b[0m\u001b[0;34m\u001b[0m\u001b[0m\n\u001b[0m",
      "\u001b[0;32m~/Documents/Colour_Clustering/tumblr_tools.py\u001b[0m in \u001b[0;36mpublisher\u001b[0;34m(blogname, folder_of_pictures, picture_name, date_of, picture_color, csv_filename, client)\u001b[0m\n\u001b[1;32m     70\u001b[0m     \u001b[0;32mif\u001b[0m \u001b[0mpicture_name\u001b[0m \u001b[0;32mnot\u001b[0m \u001b[0;32min\u001b[0m \u001b[0mpublished\u001b[0m\u001b[0;34m[\u001b[0m\u001b[0;34m'name'\u001b[0m\u001b[0;34m]\u001b[0m\u001b[0;34m.\u001b[0m\u001b[0mtolist\u001b[0m\u001b[0;34m(\u001b[0m\u001b[0;34m)\u001b[0m\u001b[0;34m:\u001b[0m\u001b[0;34m\u001b[0m\u001b[0;34m\u001b[0m\u001b[0m\n\u001b[1;32m     71\u001b[0m \u001b[0;34m\u001b[0m\u001b[0m\n\u001b[0;32m---> 72\u001b[0;31m         \u001b[0mpublished\u001b[0m \u001b[0;34m=\u001b[0m \u001b[0mupload_post\u001b[0m\u001b[0;34m(\u001b[0m\u001b[0mfolder_of_pictures\u001b[0m\u001b[0;34m,\u001b[0m \u001b[0mpicture_name\u001b[0m\u001b[0;34m,\u001b[0m \u001b[0mblogname\u001b[0m\u001b[0;34m,\u001b[0m \u001b[0mpicture_color\u001b[0m\u001b[0;34m,\u001b[0m \u001b[0mdate_of\u001b[0m\u001b[0;34m,\u001b[0m \u001b[0mpublished\u001b[0m\u001b[0;34m,\u001b[0m \u001b[0mclient\u001b[0m\u001b[0;34m)\u001b[0m\u001b[0;34m\u001b[0m\u001b[0;34m\u001b[0m\u001b[0m\n\u001b[0m\u001b[1;32m     73\u001b[0m \u001b[0;34m\u001b[0m\u001b[0m\n\u001b[1;32m     74\u001b[0m     \u001b[0;32melse\u001b[0m\u001b[0;34m:\u001b[0m\u001b[0;34m\u001b[0m\u001b[0;34m\u001b[0m\u001b[0m\n",
      "\u001b[0;32m~/Documents/Colour_Clustering/tumblr_tools.py\u001b[0m in \u001b[0;36mupload_post\u001b[0;34m(folder_of_pictures, picture_name, blogname, picture_color, date_of, published_df, client)\u001b[0m\n\u001b[1;32m     29\u001b[0m     published_df = published_df.append({\n\u001b[1;32m     30\u001b[0m         \u001b[0;34m'name'\u001b[0m\u001b[0;34m:\u001b[0m \u001b[0mpicture_name\u001b[0m\u001b[0;34m,\u001b[0m\u001b[0;34m\u001b[0m\u001b[0;34m\u001b[0m\u001b[0m\n\u001b[0;32m---> 31\u001b[0;31m         \u001b[0;34m'post_id'\u001b[0m\u001b[0;34m:\u001b[0m \u001b[0;34m'id'\u001b[0m \u001b[0;34m+\u001b[0m \u001b[0mupload\u001b[0m\u001b[0;34m[\u001b[0m\u001b[0;34m'id_string'\u001b[0m\u001b[0;34m]\u001b[0m\u001b[0;34m,\u001b[0m\u001b[0;34m\u001b[0m\u001b[0;34m\u001b[0m\u001b[0m\n\u001b[0m\u001b[1;32m     32\u001b[0m         \u001b[0;34m'post_date'\u001b[0m\u001b[0;34m:\u001b[0m \u001b[0mdate_of\u001b[0m\u001b[0;34m,\u001b[0m\u001b[0;34m\u001b[0m\u001b[0;34m\u001b[0m\u001b[0m\n\u001b[1;32m     33\u001b[0m         \u001b[0;34m'p_color'\u001b[0m\u001b[0;34m:\u001b[0m \u001b[0mpicture_color\u001b[0m\u001b[0;34m,\u001b[0m\u001b[0;34m\u001b[0m\u001b[0;34m\u001b[0m\u001b[0m\n",
      "\u001b[0;31mKeyError\u001b[0m: 'id_string'"
     ]
    }
   ],
   "source": [
    "blog = \"sorting-colors\"\n",
    "folder = \"Imgs_done\"\n",
    "csv_file = \"tumblr_stats\"\n",
    "\n",
    "for i in df1.index:\n",
    "    publisher(blog, folder, df1['sorted_names'][i], publication_dates[i], df1['sorted_RGBcolors'][i], csv_file, client)"
   ]
  },
  {
   "cell_type": "code",
   "execution_count": null,
   "metadata": {},
   "outputs": [],
   "source": []
  }
 ],
 "metadata": {
  "kernelspec": {
   "display_name": "Python 3",
   "language": "python",
   "name": "python3"
  },
  "language_info": {
   "codemirror_mode": {
    "name": "ipython",
    "version": 3
   },
   "file_extension": ".py",
   "mimetype": "text/x-python",
   "name": "python",
   "nbconvert_exporter": "python",
   "pygments_lexer": "ipython3",
   "version": "3.6.9"
  }
 },
 "nbformat": 4,
 "nbformat_minor": 2
}
