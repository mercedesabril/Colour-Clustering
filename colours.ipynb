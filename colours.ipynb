{
 "cells": [
  {
   "cell_type": "markdown",
   "metadata": {},
   "source": [
    "# Colours project"
   ]
  },
  {
   "cell_type": "markdown",
   "metadata": {},
   "source": [
    "Objectives:\n",
    "\n",
    "    1) Extract the most predominant colour(s) in an image with various methods\n",
    "        a) total RGB mode\n",
    "        b) ?\n",
    "    2) Arrange the images by their RGB colours similarities"
   ]
  },
  {
   "cell_type": "code",
   "execution_count": 18,
   "metadata": {},
   "outputs": [],
   "source": [
    "from PIL import Image #Python Imaging Library\n",
    "\n",
    "import sys\n",
    "\n",
    "import shutil\n",
    "import os\n",
    "\n",
    "import numpy as np\n",
    "\n",
    "from matplotlib import pyplot as plt\n",
    "%matplotlib inline"
   ]
  },
  {
   "cell_type": "code",
   "execution_count": 19,
   "metadata": {},
   "outputs": [],
   "source": [
    "def RGB_histogram(values, name):\n",
    "    if not os.path.isdir(\"histograms\"):\n",
    "        os.makedirs(\"histograms\")\n",
    "    f = plt.figure(figsize=(15,10))\n",
    "    plt.grid()\n",
    "    color = ('firebrick','mediumseagreen','royalblue')\n",
    "    for i,col in enumerate(color):\n",
    "        plt.hist(np.array(values)[:,i], color = col, histtype = 'stepfilled', \n",
    "                     bins = 256, alpha = 0.6)\n",
    "    plt.xlim([0,256])\n",
    "    plt.title(\"RGB contributions for \"+ name)\n",
    "    plt.ylabel(\"Frequency\")\n",
    "    plt.xlabel(\"Contribution to the pixels\")\n",
    "    plt.savefig(\"histograms/RGB_contribution_\" + name + \".png\")"
   ]
  },
  {
   "cell_type": "code",
   "execution_count": 20,
   "metadata": {},
   "outputs": [],
   "source": [
    "def multiple_images(img, outputname):\n",
    "    images = [Image.open(x) for x in img]\n",
    "    widths, heights = zip(*(i.size for i in images))\n",
    "    total_width = sum(widths)\n",
    "    max_height = max(heights)\n",
    "    new_im = Image.new('RGB', (total_width, max_height))\n",
    "    x_offset = 0\n",
    "    for im in images:\n",
    "        new_im.paste(im, (x_offset,0))\n",
    "        x_offset += im.size[0]\n",
    "        new_im.save(outputname +'.jpg')"
   ]
  },
  {
   "cell_type": "code",
   "execution_count": 21,
   "metadata": {},
   "outputs": [],
   "source": [
    "def RGB_image(values, path, outputname, img, size):\n",
    "    if not os.path.isdir(\"RGBcomposites\"):\n",
    "        os.makedirs(\"RGBcomposites\")\n",
    "        \n",
    "    r = [(d[0], 0, 0) for d in values]\n",
    "    g = [(0, d[1], 0) for d in values]\n",
    "    b = [(0, 0, d[2]) for d in values]\n",
    "    \n",
    "    if not os.path.isdir(\"rgb\"):\n",
    "        os.makedirs(\"rgb\")\n",
    "    \n",
    "    width, height = size\n",
    "    new_img = Image.new('RGB', (width, height))\n",
    "    new_img.putdata(r)\n",
    "    new_img.save('rgb/Rgb.jpg')\n",
    "    new_img.putdata(g)\n",
    "    new_img.save('rgb/rGb.jpg')\n",
    "    new_img.putdata(b)\n",
    "    new_img.save('rgb/rgB.jpg')\n",
    "    \n",
    "    I = [path, 'rgb/Rgb.jpg', 'rgb/rGb.jpg', 'rgb/rgB.jpg']\n",
    "    final = multiple_images(I, \"RGBcomposites/\" + outputname)\n",
    "    shutil.rmtree(\"rgb\")\n",
    "    return(final)"
   ]
  },
  {
   "cell_type": "code",
   "execution_count": 22,
   "metadata": {},
   "outputs": [],
   "source": [
    "def colors_plot(colors, size, img, name, path):\n",
    "    \n",
    "    if not os.path.isdir(\"ColorPalette\"):\n",
    "        os.makedirs(\"ColorPalette\")\n",
    "    \n",
    "    sample = []\n",
    "    number = len(colors)\n",
    "    \n",
    "    width, height = size\n",
    "    \n",
    "    for c in colors:\n",
    "        sample = sample + ([c] * round(width*height/number))\n",
    "        \n",
    "    new_img = Image.new('RGB', (width, height))\n",
    "    new_img.putdata(sample)\n",
    "    new_img.save('palette.jpg')\n",
    "    \n",
    "    images = [Image.open(x) for x in [path, 'palette.jpg']]\n",
    "    widths, heights = zip(*(i.size for i in images))\n",
    "    total_width = sum(widths)\n",
    "    max_height = max(heights)\n",
    "    new_im = Image.new('RGB', (total_width, max_height))\n",
    "    x_offset = 0\n",
    "    for im in images:\n",
    "        new_im.paste(im, (x_offset,0))\n",
    "        x_offset += im.size[0]\n",
    "        new_im.save('ColorPalette/ColorPalette_' + name +'.jpg')\n",
    "    os.remove('palette.jpg')"
   ]
  },
  {
   "cell_type": "code",
   "execution_count": 23,
   "metadata": {},
   "outputs": [],
   "source": [
    "import binascii\n",
    "import struct\n",
    "import scipy\n",
    "import scipy.misc\n",
    "import scipy.cluster\n",
    "\n",
    "def ColorClustering(num_cluster, image):\n",
    "    ar = np.asarray(image)\n",
    "    shape = ar.shape\n",
    "    ar = ar.reshape(scipy.product(shape[:2]), shape[2]).astype(float)\n",
    "\n",
    "    codes, dist = scipy.cluster.vq.kmeans(ar, num_cluster)\n",
    "    codes = np.around(codes)\n",
    "    codes = codes.astype(int)\n",
    "    final = list(map(tuple, codes))\n",
    "    return(final)"
   ]
  },
  {
   "cell_type": "code",
   "execution_count": 24,
   "metadata": {},
   "outputs": [],
   "source": [
    "class ImageAnalizer(object):\n",
    "    \n",
    "    def __init__(self, path):\n",
    "        self.path = path\n",
    "        self.name = path.split(\".\", 1)[0]\n",
    "        self.img = Image.open(path)\n",
    "        self.pix = self.img.load()\n",
    "        self.size = self.img.size\n",
    "        self.total_pixels = self.size[0]*self.size[1]\n",
    "        self.pixel_values = list(self.img.getdata())\n",
    "        self.colors = sorted(self.img.getcolors(self.total_pixels), key = lambda tup: tup[0], \n",
    "                             reverse = True)\n",
    "        \n",
    "    def RGB_graph(self):\n",
    "        return(RGB_histogram(self.pixel_values, self.name))\n",
    "    \n",
    "    def RGB_composite(self):\n",
    "         return(RGB_image(self.pixel_values, self.path, 'RGB_composite_' + self.name +'.jpg', self.img, self.size))\n",
    "        \n",
    "    def Color_palette(self, colors):\n",
    "        return(colors_plot(colors, self.size, self.img, self.name, self.path))\n"
   ]
  },
  {
   "cell_type": "code",
   "execution_count": 25,
   "metadata": {},
   "outputs": [],
   "source": [
    "Imagen = ImageAnalizer(\"ceb.jpg\")"
   ]
  },
  {
   "cell_type": "code",
   "execution_count": 26,
   "metadata": {},
   "outputs": [],
   "source": [
    "Imagen.RGB_composite()"
   ]
  },
  {
   "cell_type": "code",
   "execution_count": 27,
   "metadata": {},
   "outputs": [
    {
     "data": {
      "image/png": "[encoded data removed]",
      "text/plain": [
       "<Figure size 1080x720 with 1 Axes>"
      ]
     },
     "metadata": {
      "needs_background": "light"
     },
     "output_type": "display_data"
    }
   ],
   "source": [
    "Imagen.RGB_graph()"
   ]
  },
  {
   "cell_type": "code",
   "execution_count": 29,
   "metadata": {},
   "outputs": [],
   "source": [
    "Imagen.Color_palette(ColorClustering(10, Imagen.img))"
   ]
  },
  {
   "cell_type": "code",
   "execution_count": null,
   "metadata": {},
   "outputs": [],
   "source": []
  }
 ],
 "metadata": {
  "kernelspec": {
   "display_name": "Python 3",
   "language": "python",
   "name": "python3"
  },
  "language_info": {
   "codemirror_mode": {
    "name": "ipython",
    "version": 3
   },
   "file_extension": ".py",
   "mimetype": "text/x-python",
   "name": "python",
   "nbconvert_exporter": "python",
   "pygments_lexer": "ipython3",
   "version": "3.6.9"
  }
 },
 "nbformat": 4,
 "nbformat_minor": 2
}
