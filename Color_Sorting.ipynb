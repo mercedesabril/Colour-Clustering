{
 "cells": [
  {
   "cell_type": "markdown",
   "metadata": {},
   "source": [
    "# Sorting images by their principal colors"
   ]
  },
  {
   "cell_type": "code",
   "execution_count": 48,
   "metadata": {},
   "outputs": [],
   "source": [
    "import pandas as pd\n",
    "from PIL import Image\n",
    "import math\n",
    "import colorsys\n",
    "import os"
   ]
  },
  {
   "cell_type": "markdown",
   "metadata": {},
   "source": [
    "## Loading the datasets"
   ]
  },
  {
   "cell_type": "markdown",
   "metadata": {},
   "source": [
    "Sorting results vary depending on the dataset used: with enhanced effect, resized image and numer of clusters used (just 3 clusters vs. using the knee algorithm)."
   ]
  },
  {
   "cell_type": "code",
   "execution_count": 49,
   "metadata": {},
   "outputs": [],
   "source": [
    "file = \"enhanced10p\"\n",
    "df_col = pd.read_csv(\"ColorCluster_\" + file + \"_RGB.csv\")\n",
    "df_per = pd.read_csv(\"ColorCluster_\" + file + \"_Percentage.csv\")"
   ]
  },
  {
   "cell_type": "code",
   "execution_count": 50,
   "metadata": {},
   "outputs": [
    {
     "data": {
      "text/html": [
       "<div>\n",
       "<style scoped>\n",
       "    .dataframe tbody tr th:only-of-type {\n",
       "        vertical-align: middle;\n",
       "    }\n",
       "\n",
       "    .dataframe tbody tr th {\n",
       "        vertical-align: top;\n",
       "    }\n",
       "\n",
       "    .dataframe thead th {\n",
       "        text-align: right;\n",
       "    }\n",
       "</style>\n",
       "<table border=\"1\" class=\"dataframe\">\n",
       "  <thead>\n",
       "    <tr style=\"text-align: right;\">\n",
       "      <th></th>\n",
       "      <th>8bffe092134cac84ac5affab4fb9b738</th>\n",
       "      <th>aecd3acf09c5bf0772ab0a913a4e7eeb</th>\n",
       "      <th>1bd9b38e59eabb23abbcda38a323c8e9</th>\n",
       "      <th>lamp</th>\n",
       "      <th>99fafc0e66a78fdede1bfda2872d7b36</th>\n",
       "      <th>mos</th>\n",
       "      <th>pipe</th>\n",
       "      <th>coc</th>\n",
       "      <th>peach</th>\n",
       "      <th>flowers</th>\n",
       "      <th>...</th>\n",
       "      <th>1f23d405f5268c7e1dd58bcd81a3d358</th>\n",
       "      <th>cx9bc2mc8qx41</th>\n",
       "      <th>36c0c3842ae27d4273b71f631461f44e</th>\n",
       "      <th>1fc604aa185d824765a6b9582df3b6a6</th>\n",
       "      <th>tumblr_ntfry6l8nD1tn6jt3o1_540</th>\n",
       "      <th>knkft95kjh151</th>\n",
       "      <th>ssmFU4nYEHIBA_yMj0q7UZdvsO5kz2Jwb4DmxtC9lXA</th>\n",
       "      <th>tumblr_njz9drX3WF1r38w10o1_540</th>\n",
       "      <th>321faa0baaf1f30cca4af3ae7f0551f6</th>\n",
       "      <th>325vhan02s051</th>\n",
       "    </tr>\n",
       "  </thead>\n",
       "  <tbody>\n",
       "    <tr>\n",
       "      <th>0</th>\n",
       "      <td>(248, 209, 169)</td>\n",
       "      <td>(237, 112, 122)</td>\n",
       "      <td>(79, 22, 10)</td>\n",
       "      <td>(251, 251, 251)</td>\n",
       "      <td>(244, 172, 215)</td>\n",
       "      <td>(31, 26, 31)</td>\n",
       "      <td>(201, 121, 41)</td>\n",
       "      <td>(240, 243, 244)</td>\n",
       "      <td>(243, 22, 16)</td>\n",
       "      <td>(45, 15, 4)</td>\n",
       "      <td>...</td>\n",
       "      <td>(39, 13, 5)</td>\n",
       "      <td>(236, 244, 196)</td>\n",
       "      <td>(215, 225, 121)</td>\n",
       "      <td>(149, 211, 19)</td>\n",
       "      <td>(237, 228, 221)</td>\n",
       "      <td>(242, 244, 249)</td>\n",
       "      <td>(9, 23, 32)</td>\n",
       "      <td>(137, 128, 72)</td>\n",
       "      <td>(48, 28, 16)</td>\n",
       "      <td>(4, 23, 0)</td>\n",
       "    </tr>\n",
       "    <tr>\n",
       "      <th>1</th>\n",
       "      <td>(213, 63, 15)</td>\n",
       "      <td>(102, 8, 13)</td>\n",
       "      <td>(225, 170, 102)</td>\n",
       "      <td>(250, 169, 2)</td>\n",
       "      <td>(28, 24, 13)</td>\n",
       "      <td>(28, 149, 204)</td>\n",
       "      <td>(238, 235, 228)</td>\n",
       "      <td>(28, 10, 5)</td>\n",
       "      <td>(80, 1, 1)</td>\n",
       "      <td>(243, 130, 7)</td>\n",
       "      <td>...</td>\n",
       "      <td>(244, 228, 174)</td>\n",
       "      <td>(110, 163, 48)</td>\n",
       "      <td>(53, 6, 4)</td>\n",
       "      <td>(62, 7, 98)</td>\n",
       "      <td>(16, 7, 4)</td>\n",
       "      <td>(3, 17, 38)</td>\n",
       "      <td>(223, 239, 244)</td>\n",
       "      <td>(9, 29, 5)</td>\n",
       "      <td>(229, 204, 192)</td>\n",
       "      <td>(204, 252, 100)</td>\n",
       "    </tr>\n",
       "    <tr>\n",
       "      <th>2</th>\n",
       "      <td>(40, 6, 3)</td>\n",
       "      <td>(253, 221, 229)</td>\n",
       "      <td>(252, 246, 229)</td>\n",
       "      <td>(178, 66, 5)</td>\n",
       "      <td>(179, 87, 112)</td>\n",
       "      <td>(219, 202, 171)</td>\n",
       "      <td>(35, 15, 24)</td>\n",
       "      <td>(165, 149, 143)</td>\n",
       "      <td>(255, 143, 107)</td>\n",
       "      <td>(234, 227, 191)</td>\n",
       "      <td>...</td>\n",
       "      <td>(231, 139, 31)</td>\n",
       "      <td>(7, 49, 1)</td>\n",
       "      <td>(165, 32, 52)</td>\n",
       "      <td>(185, 46, 239)</td>\n",
       "      <td>(146, 112, 88)</td>\n",
       "      <td>(127, 142, 167)</td>\n",
       "      <td>(106, 136, 151)</td>\n",
       "      <td>(228, 237, 222)</td>\n",
       "      <td>(168, 139, 125)</td>\n",
       "      <td>(106, 186, 14)</td>\n",
       "    </tr>\n",
       "  </tbody>\n",
       "</table>\n",
       "<p>3 rows × 175 columns</p>\n",
       "</div>"
      ],
      "text/plain": [
       "  8bffe092134cac84ac5affab4fb9b738 aecd3acf09c5bf0772ab0a913a4e7eeb  \\\n",
       "0                  (248, 209, 169)                  (237, 112, 122)   \n",
       "1                    (213, 63, 15)                     (102, 8, 13)   \n",
       "2                       (40, 6, 3)                  (253, 221, 229)   \n",
       "\n",
       "  1bd9b38e59eabb23abbcda38a323c8e9             lamp  \\\n",
       "0                     (79, 22, 10)  (251, 251, 251)   \n",
       "1                  (225, 170, 102)    (250, 169, 2)   \n",
       "2                  (252, 246, 229)     (178, 66, 5)   \n",
       "\n",
       "  99fafc0e66a78fdede1bfda2872d7b36              mos             pipe  \\\n",
       "0                  (244, 172, 215)     (31, 26, 31)   (201, 121, 41)   \n",
       "1                     (28, 24, 13)   (28, 149, 204)  (238, 235, 228)   \n",
       "2                   (179, 87, 112)  (219, 202, 171)     (35, 15, 24)   \n",
       "\n",
       "               coc            peach          flowers       ...         \\\n",
       "0  (240, 243, 244)    (243, 22, 16)      (45, 15, 4)       ...          \n",
       "1      (28, 10, 5)       (80, 1, 1)    (243, 130, 7)       ...          \n",
       "2  (165, 149, 143)  (255, 143, 107)  (234, 227, 191)       ...          \n",
       "\n",
       "  1f23d405f5268c7e1dd58bcd81a3d358    cx9bc2mc8qx41  \\\n",
       "0                      (39, 13, 5)  (236, 244, 196)   \n",
       "1                  (244, 228, 174)   (110, 163, 48)   \n",
       "2                   (231, 139, 31)       (7, 49, 1)   \n",
       "\n",
       "  36c0c3842ae27d4273b71f631461f44e 1fc604aa185d824765a6b9582df3b6a6  \\\n",
       "0                  (215, 225, 121)                   (149, 211, 19)   \n",
       "1                       (53, 6, 4)                      (62, 7, 98)   \n",
       "2                    (165, 32, 52)                   (185, 46, 239)   \n",
       "\n",
       "  tumblr_ntfry6l8nD1tn6jt3o1_540    knkft95kjh151  \\\n",
       "0                (237, 228, 221)  (242, 244, 249)   \n",
       "1                     (16, 7, 4)      (3, 17, 38)   \n",
       "2                 (146, 112, 88)  (127, 142, 167)   \n",
       "\n",
       "  ssmFU4nYEHIBA_yMj0q7UZdvsO5kz2Jwb4DmxtC9lXA tumblr_njz9drX3WF1r38w10o1_540  \\\n",
       "0                                 (9, 23, 32)                 (137, 128, 72)   \n",
       "1                             (223, 239, 244)                     (9, 29, 5)   \n",
       "2                             (106, 136, 151)                (228, 237, 222)   \n",
       "\n",
       "  321faa0baaf1f30cca4af3ae7f0551f6    325vhan02s051  \n",
       "0                     (48, 28, 16)       (4, 23, 0)  \n",
       "1                  (229, 204, 192)  (204, 252, 100)  \n",
       "2                  (168, 139, 125)   (106, 186, 14)  \n",
       "\n",
       "[3 rows x 175 columns]"
      ]
     },
     "execution_count": 50,
     "metadata": {},
     "output_type": "execute_result"
    }
   ],
   "source": [
    "df_col.head(10)"
   ]
  },
  {
   "cell_type": "code",
   "execution_count": 51,
   "metadata": {},
   "outputs": [
    {
     "data": {
      "text/html": [
       "<div>\n",
       "<style scoped>\n",
       "    .dataframe tbody tr th:only-of-type {\n",
       "        vertical-align: middle;\n",
       "    }\n",
       "\n",
       "    .dataframe tbody tr th {\n",
       "        vertical-align: top;\n",
       "    }\n",
       "\n",
       "    .dataframe thead th {\n",
       "        text-align: right;\n",
       "    }\n",
       "</style>\n",
       "<table border=\"1\" class=\"dataframe\">\n",
       "  <thead>\n",
       "    <tr style=\"text-align: right;\">\n",
       "      <th></th>\n",
       "      <th>8bffe092134cac84ac5affab4fb9b738</th>\n",
       "      <th>aecd3acf09c5bf0772ab0a913a4e7eeb</th>\n",
       "      <th>1bd9b38e59eabb23abbcda38a323c8e9</th>\n",
       "      <th>lamp</th>\n",
       "      <th>99fafc0e66a78fdede1bfda2872d7b36</th>\n",
       "      <th>mos</th>\n",
       "      <th>pipe</th>\n",
       "      <th>coc</th>\n",
       "      <th>peach</th>\n",
       "      <th>flowers</th>\n",
       "      <th>...</th>\n",
       "      <th>1f23d405f5268c7e1dd58bcd81a3d358</th>\n",
       "      <th>cx9bc2mc8qx41</th>\n",
       "      <th>36c0c3842ae27d4273b71f631461f44e</th>\n",
       "      <th>1fc604aa185d824765a6b9582df3b6a6</th>\n",
       "      <th>tumblr_ntfry6l8nD1tn6jt3o1_540</th>\n",
       "      <th>knkft95kjh151</th>\n",
       "      <th>ssmFU4nYEHIBA_yMj0q7UZdvsO5kz2Jwb4DmxtC9lXA</th>\n",
       "      <th>tumblr_njz9drX3WF1r38w10o1_540</th>\n",
       "      <th>321faa0baaf1f30cca4af3ae7f0551f6</th>\n",
       "      <th>325vhan02s051</th>\n",
       "    </tr>\n",
       "  </thead>\n",
       "  <tbody>\n",
       "    <tr>\n",
       "      <th>0</th>\n",
       "      <td>17.0</td>\n",
       "      <td>33.0</td>\n",
       "      <td>16.0</td>\n",
       "      <td>50.0</td>\n",
       "      <td>44.0</td>\n",
       "      <td>53.0</td>\n",
       "      <td>28.0</td>\n",
       "      <td>66.0</td>\n",
       "      <td>64.0</td>\n",
       "      <td>27.0</td>\n",
       "      <td>...</td>\n",
       "      <td>41.0</td>\n",
       "      <td>30.0</td>\n",
       "      <td>30.0</td>\n",
       "      <td>36.0</td>\n",
       "      <td>31.0</td>\n",
       "      <td>34.0</td>\n",
       "      <td>35.0</td>\n",
       "      <td>23.0</td>\n",
       "      <td>9.0</td>\n",
       "      <td>28.0</td>\n",
       "    </tr>\n",
       "    <tr>\n",
       "      <th>1</th>\n",
       "      <td>52.0</td>\n",
       "      <td>18.0</td>\n",
       "      <td>28.0</td>\n",
       "      <td>38.0</td>\n",
       "      <td>29.0</td>\n",
       "      <td>27.0</td>\n",
       "      <td>48.0</td>\n",
       "      <td>18.0</td>\n",
       "      <td>14.0</td>\n",
       "      <td>58.0</td>\n",
       "      <td>...</td>\n",
       "      <td>17.0</td>\n",
       "      <td>22.0</td>\n",
       "      <td>43.0</td>\n",
       "      <td>38.0</td>\n",
       "      <td>49.0</td>\n",
       "      <td>51.0</td>\n",
       "      <td>35.0</td>\n",
       "      <td>56.0</td>\n",
       "      <td>44.0</td>\n",
       "      <td>44.0</td>\n",
       "    </tr>\n",
       "    <tr>\n",
       "      <th>2</th>\n",
       "      <td>31.0</td>\n",
       "      <td>50.0</td>\n",
       "      <td>57.0</td>\n",
       "      <td>12.0</td>\n",
       "      <td>27.0</td>\n",
       "      <td>21.0</td>\n",
       "      <td>24.0</td>\n",
       "      <td>16.0</td>\n",
       "      <td>22.0</td>\n",
       "      <td>15.0</td>\n",
       "      <td>...</td>\n",
       "      <td>42.0</td>\n",
       "      <td>48.0</td>\n",
       "      <td>28.0</td>\n",
       "      <td>25.0</td>\n",
       "      <td>20.0</td>\n",
       "      <td>15.0</td>\n",
       "      <td>30.0</td>\n",
       "      <td>21.0</td>\n",
       "      <td>47.0</td>\n",
       "      <td>28.0</td>\n",
       "    </tr>\n",
       "  </tbody>\n",
       "</table>\n",
       "<p>3 rows × 175 columns</p>\n",
       "</div>"
      ],
      "text/plain": [
       "   8bffe092134cac84ac5affab4fb9b738  aecd3acf09c5bf0772ab0a913a4e7eeb  \\\n",
       "0                              17.0                              33.0   \n",
       "1                              52.0                              18.0   \n",
       "2                              31.0                              50.0   \n",
       "\n",
       "   1bd9b38e59eabb23abbcda38a323c8e9  lamp  99fafc0e66a78fdede1bfda2872d7b36  \\\n",
       "0                              16.0  50.0                              44.0   \n",
       "1                              28.0  38.0                              29.0   \n",
       "2                              57.0  12.0                              27.0   \n",
       "\n",
       "    mos  pipe   coc  peach  flowers      ...        \\\n",
       "0  53.0  28.0  66.0   64.0     27.0      ...         \n",
       "1  27.0  48.0  18.0   14.0     58.0      ...         \n",
       "2  21.0  24.0  16.0   22.0     15.0      ...         \n",
       "\n",
       "   1f23d405f5268c7e1dd58bcd81a3d358  cx9bc2mc8qx41  \\\n",
       "0                              41.0           30.0   \n",
       "1                              17.0           22.0   \n",
       "2                              42.0           48.0   \n",
       "\n",
       "   36c0c3842ae27d4273b71f631461f44e  1fc604aa185d824765a6b9582df3b6a6  \\\n",
       "0                              30.0                              36.0   \n",
       "1                              43.0                              38.0   \n",
       "2                              28.0                              25.0   \n",
       "\n",
       "   tumblr_ntfry6l8nD1tn6jt3o1_540  knkft95kjh151  \\\n",
       "0                            31.0           34.0   \n",
       "1                            49.0           51.0   \n",
       "2                            20.0           15.0   \n",
       "\n",
       "   ssmFU4nYEHIBA_yMj0q7UZdvsO5kz2Jwb4DmxtC9lXA  \\\n",
       "0                                         35.0   \n",
       "1                                         35.0   \n",
       "2                                         30.0   \n",
       "\n",
       "   tumblr_njz9drX3WF1r38w10o1_540  321faa0baaf1f30cca4af3ae7f0551f6  \\\n",
       "0                            23.0                               9.0   \n",
       "1                            56.0                              44.0   \n",
       "2                            21.0                              47.0   \n",
       "\n",
       "   325vhan02s051  \n",
       "0           28.0  \n",
       "1           44.0  \n",
       "2           28.0  \n",
       "\n",
       "[3 rows x 175 columns]"
      ]
     },
     "execution_count": 51,
     "metadata": {},
     "output_type": "execute_result"
    }
   ],
   "source": [
    "df_per.head(10)"
   ]
  },
  {
   "cell_type": "markdown",
   "metadata": {},
   "source": [
    "## Extract the two maximum values per column and their percentages"
   ]
  },
  {
   "cell_type": "code",
   "execution_count": 52,
   "metadata": {},
   "outputs": [],
   "source": [
    "first_max = []\n",
    "second_max = []\n",
    "imgs_name = []\n",
    "percentage = []\n",
    "percentage2 = []\n",
    "for i in df_col.keys():\n",
    "    imgs_name = imgs_name + [i]\n",
    "    maxs = df_per[i].nlargest(2).keys()\n",
    "    first_max = first_max + [df_col[i][maxs[0]]]\n",
    "    percentage = percentage + [df_per[i][maxs[0]]]\n",
    "    second_max = second_max + [df_col[i][maxs[1]]]\n",
    "    percentage2 = percentage2 + [df_per[i][maxs[1]]]"
   ]
  },
  {
   "cell_type": "code",
   "execution_count": 53,
   "metadata": {},
   "outputs": [],
   "source": [
    "from ast import literal_eval as make_tuple\n",
    "\n",
    "first_max = list(map(make_tuple, first_max))\n",
    "second_max = list(map(make_tuple, second_max))"
   ]
  },
  {
   "cell_type": "markdown",
   "metadata": {},
   "source": [
    "## Color sorting and color stripe image"
   ]
  },
  {
   "cell_type": "markdown",
   "metadata": {},
   "source": [
    "Once determined the principal color(s) for each picture, now it's the time to sort them. There are many ways to do that, but I will focus in the RGB ans HSV color spaces. \n",
    "\n",
    "The sorting method depends mainly on the dataset, and to choose the best one it's useful to look at the color stripes for each method generated by the *color_stripe* function."
   ]
  },
  {
   "cell_type": "code",
   "execution_count": 54,
   "metadata": {},
   "outputs": [],
   "source": [
    "from color_analysis import color_stripe, SortingColors"
   ]
  },
  {
   "cell_type": "markdown",
   "metadata": {},
   "source": [
    "### Luminosity sorting"
   ]
  },
  {
   "cell_type": "markdown",
   "metadata": {},
   "source": [
    "Sorts by the percieved luminosity of the colors"
   ]
  },
  {
   "cell_type": "code",
   "execution_count": 55,
   "metadata": {},
   "outputs": [],
   "source": [
    "def lum (r,g,b):\n",
    "    return math.sqrt( 0.299*(r**2) + 0.587*(g**2) + 0.114*(b**2) )"
   ]
  },
  {
   "cell_type": "code",
   "execution_count": 56,
   "metadata": {},
   "outputs": [
    {
     "name": "stdout",
     "output_type": "stream",
     "text": [
      "251.5291474163581 0.9999999999999999\n"
     ]
    }
   ],
   "source": [
    "lum_t = [lum(*i) for i in first_max]\n",
    "LUM = SortingColors((imgs_name, first_max, lum_t), 2)\n",
    "color_stripe([20,100], LUM.sorted_RGBvalues, 'ColorStripe_LUM')\n",
    "print(max(lum_t), min(lum_t))"
   ]
  },
  {
   "cell_type": "markdown",
   "metadata": {},
   "source": [
    "Also, the luminosity can help determine the principal color. \n",
    "\n",
    "With Knn we can extract a number of color clusters from an image (maybe a fixed number like 3 clusters for example, or maybe a variable number using the knee algorithm), but this algorithm has a downside: if an image is composed by various objects, the shadows between them will be percieved as a color cluster in itself and in some cases it may be even considered the principal color when in reality it's just noise.\n",
    "\n",
    "Using the luminosity we can determine if the principal color is really the principal color of the image or noise product of the shadows. Implementing an inferior threshold for the luminosity of the \"principal color\", combined with a threshold for the percentage of pixels with that particular color, we can fix this problem replacing the principal color cluster with the second principal color cluster in the images with noise, while undisturbing the images which are truly darker."
   ]
  },
  {
   "cell_type": "code",
   "execution_count": 57,
   "metadata": {},
   "outputs": [],
   "source": [
    "max_withlum = []\n",
    "\n",
    "for i in range(0, len(first_max)):\n",
    "    \n",
    "    if (lum_t[i]<100 and abs(percentage[i]-percentage2[i])<10):\n",
    "        max_withlum = max_withlum + [second_max[i]]\n",
    "    \n",
    "    elif (lum_t[i]>230 and abs(percentage[i]-percentage2[i])<10):\n",
    "        max_withlum = max_withlum + [second_max[i]]\n",
    "        \n",
    "    else:\n",
    "        max_withlum = max_withlum + [first_max[i]]"
   ]
  },
  {
   "cell_type": "markdown",
   "metadata": {},
   "source": [
    "### RGB sorting"
   ]
  },
  {
   "cell_type": "markdown",
   "metadata": {},
   "source": [
    "The most simple way of sorting. First, it sorts the first component (R: red), then the second (G: green) and finally the third (B: blue) of the principal color of the image."
   ]
  },
  {
   "cell_type": "code",
   "execution_count": 58,
   "metadata": {},
   "outputs": [
    {
     "data": {
      "text/plain": [
       "[('75bdbb88471277b3e4a4d2fd7dd510e4', (255, 251, 245)),\n",
       " ('8881e2f9bc476775f8d5b2df27604fe0', (255, 239, 162)),\n",
       " ('pf', (255, 216, 2)),\n",
       " ('373cc3217e11b7059d0ec44b1480f617', (255, 188, 191)),\n",
       " ('gf', (255, 7, 66)),\n",
       " ('0b813c3ff57ebc81d55e8ccd1dc21788', (254, 233, 1)),\n",
       " ('bee', (254, 231, 63)),\n",
       " ('flo', (254, 212, 234)),\n",
       " ('2df432f958ac518069cfd3a592e3b541', (254, 88, 1)),\n",
       " ('68788d484729dc0297da343a0afe835e', (253, 224, 7))]"
      ]
     },
     "execution_count": 58,
     "metadata": {},
     "output_type": "execute_result"
    }
   ],
   "source": [
    "RGB = SortingColors((imgs_name, first_max), 1)\n",
    "color_stripe([20,100], RGB.sorted_RGBvalues, 'ColorStripe_RGB')\n",
    "RGB.sorted[0:10]"
   ]
  },
  {
   "cell_type": "markdown",
   "metadata": {},
   "source": [
    "### HSV sorting"
   ]
  },
  {
   "cell_type": "markdown",
   "metadata": {},
   "source": [
    "The HSV color space represents the similarity between colors better than the RGB space. It uses hue, saturation and value as parameters."
   ]
  },
  {
   "cell_type": "code",
   "execution_count": 59,
   "metadata": {},
   "outputs": [],
   "source": [
    "def hsv(x):     \n",
    "    x = [i/255 for i in x]\n",
    "    return(colorsys.rgb_to_hsv(*x))"
   ]
  },
  {
   "cell_type": "code",
   "execution_count": 60,
   "metadata": {},
   "outputs": [
    {
     "data": {
      "text/plain": [
       "[('9faa0909c6e6f741c42c27abbe32f861',\n",
       "  (251, 2, 3),\n",
       "  (0.999330655957162, 0.9920318725099602, 0.984313725490196)),\n",
       " ('aa89e981b6a63fa8a1fa253d68c7a2a3',\n",
       "  (75, 5, 6),\n",
       "  (0.9976190476190476, 0.9333333333333333, 0.29411764705882354)),\n",
       " ('peach2',\n",
       "  (232, 28, 31),\n",
       "  (0.9975490196078431, 0.8793103448275863, 0.9098039215686274)),\n",
       " ('638d3fc4ecd8471815769a763fd436c4',\n",
       "  (231, 3, 11),\n",
       "  (0.9941520467836258, 0.987012987012987, 0.9058823529411765)),\n",
       " ('373cc3217e11b7059d0ec44b1480f617',\n",
       "  (255, 188, 191),\n",
       "  (0.9925373134328359, 0.26274509803921564, 1.0)),\n",
       " ('0a8616ebe57d001669e7c22bafdf3b22',\n",
       "  (250, 59, 77),\n",
       "  (0.9842931937172775, 0.764, 0.9803921568627451)),\n",
       " ('oct',\n",
       "  (253, 220, 225),\n",
       "  (0.9747474747474748, 0.13043478260869562, 0.9921568627450981)),\n",
       " ('ic2',\n",
       "  (60, 4, 13),\n",
       "  (0.9732142857142857, 0.9333333333333333, 0.23529411764705882)),\n",
       " ('b64b285fd18e272b85043332f06fb499',\n",
       "  (243, 138, 156),\n",
       "  (0.9714285714285714, 0.4320987654320988, 0.9529411764705882)),\n",
       " ('a2cbb62b458a8eb342231de5b825015c',\n",
       "  (222, 126, 143),\n",
       "  (0.9704861111111112, 0.4324324324324324, 0.8705882352941177))]"
      ]
     },
     "execution_count": 60,
     "metadata": {},
     "output_type": "execute_result"
    }
   ],
   "source": [
    "hsv_t = [hsv(i) for i in first_max]\n",
    "HSV = SortingColors((imgs_name, first_max, hsv_t), 2)\n",
    "color_stripe([20,100], HSV.sorted_RGBvalues, 'ColorStripe_HSV')\n",
    "HSV.sorted[0:10]"
   ]
  },
  {
   "cell_type": "markdown",
   "metadata": {},
   "source": [
    "### HLS sorting"
   ]
  },
  {
   "cell_type": "markdown",
   "metadata": {},
   "source": [
    "HLS is similar to HSV, but instead the color space is organized by hue, saturation and lightness"
   ]
  },
  {
   "cell_type": "code",
   "execution_count": 61,
   "metadata": {},
   "outputs": [],
   "source": [
    "def hls(x):\n",
    "    x = [i/255 for i in x]\n",
    "    return(colorsys.rgb_to_hls(*x))"
   ]
  },
  {
   "cell_type": "code",
   "execution_count": 62,
   "metadata": {},
   "outputs": [
    {
     "data": {
      "text/plain": [
       "[('9faa0909c6e6f741c42c27abbe32f861',\n",
       "  (251, 2, 3),\n",
       "  (0.999330655957162, 0.496078431372549, 0.9841897233201582)),\n",
       " ('aa89e981b6a63fa8a1fa253d68c7a2a3',\n",
       "  (75, 5, 6),\n",
       "  (0.9976190476190476, 0.1568627450980392, 0.8750000000000001)),\n",
       " ('peach2', (232, 28, 31), (0.9975490196078431, 0.5098039215686274, 0.816)),\n",
       " ('638d3fc4ecd8471815769a763fd436c4',\n",
       "  (231, 3, 11),\n",
       "  (0.9941520467836258, 0.4588235294117647, 0.9743589743589745)),\n",
       " ('373cc3217e11b7059d0ec44b1480f617',\n",
       "  (255, 188, 191),\n",
       "  (0.9925373134328359, 0.8686274509803922, 1.0)),\n",
       " ('0a8616ebe57d001669e7c22bafdf3b22',\n",
       "  (250, 59, 77),\n",
       "  (0.9842931937172775, 0.6058823529411764, 0.9502487562189056)),\n",
       " ('oct',\n",
       "  (253, 220, 225),\n",
       "  (0.9747474747474748, 0.9274509803921569, 0.8918918918918922)),\n",
       " ('ic2', (60, 4, 13), (0.9732142857142857, 0.12549019607843137, 0.875)),\n",
       " ('b64b285fd18e272b85043332f06fb499',\n",
       "  (243, 138, 156),\n",
       "  (0.9714285714285714, 0.7470588235294118, 0.8139534883720928)),\n",
       " ('a2cbb62b458a8eb342231de5b825015c',\n",
       "  (222, 126, 143),\n",
       "  (0.9704861111111112, 0.6823529411764706, 0.5925925925925927))]"
      ]
     },
     "execution_count": 62,
     "metadata": {},
     "output_type": "execute_result"
    }
   ],
   "source": [
    "hls_t = [hls(i) for i in first_max]\n",
    "HLS = SortingColors((imgs_name, first_max, hls_t), 2)\n",
    "color_stripe([20,100], HLS.sorted_RGBvalues, 'ColorStripe_HLS')\n",
    "HLS.sorted[0:10]"
   ]
  },
  {
   "cell_type": "markdown",
   "metadata": {},
   "source": [
    "### Step sorting"
   ]
  },
  {
   "cell_type": "markdown",
   "metadata": {},
   "source": [
    "The first one is based on the HSV color space, but also sorts by luminosity, generating a number of color segments. The ideal number of segments varies from dataset to dataset. And to add continuity to the segments, it inverts the luminosity every two segments."
   ]
  },
  {
   "cell_type": "code",
   "execution_count": 63,
   "metadata": {},
   "outputs": [],
   "source": [
    "def step_lum (r,g,b, repetitions=1):\n",
    "    \n",
    "    lum = math.sqrt( 0.299*(r**2) + 0.587*(g**2) + 0.114*(b**2) )\n",
    "    h, s, v = colorsys.rgb_to_hsv(r/255,g/255,b/255)\n",
    "    \n",
    "    h2 = int(h * repetitions)\n",
    "    lum2 = int(lum * repetitions)\n",
    "    v2 = int(v * repetitions)\n",
    "    \n",
    "    if h2 % 2 == 1:\n",
    "        v2 = repetitions - v2\n",
    "        lum = repetitions - lum\n",
    "        \n",
    "    return (h2, lum, v2)\n"
   ]
  },
  {
   "cell_type": "code",
   "execution_count": 64,
   "metadata": {},
   "outputs": [],
   "source": [
    "for number_steps in range(0,20):\n",
    "    steplum_t = [step_lum(*i, number_steps) for i in max_withlum]\n",
    "    STEP_LUM = SortingColors((imgs_name, max_withlum, steplum_t), 2)\n",
    "    color_stripe([20,100], STEP_LUM.sorted_RGBvalues, 'ColorStripe_STEPLUM' + str(number_steps))"
   ]
  },
  {
   "cell_type": "markdown",
   "metadata": {},
   "source": [
    "## Plot the sorted images for a better perception of the images' order and save the order in a csv file"
   ]
  },
  {
   "cell_type": "markdown",
   "metadata": {},
   "source": [
    "First, select the best sorting option for the dataset. In this case, I think the best one is the step sorting with luminosity fix using nine steps, and enhanced and resized by 10% pictures."
   ]
  },
  {
   "cell_type": "code",
   "execution_count": 69,
   "metadata": {},
   "outputs": [],
   "source": [
    "final_t = [step_lum(*i, 9) for i in max_withlum]\n",
    "FINAL = SortingColors((imgs_name, first_max, final_t), 2)"
   ]
  },
  {
   "cell_type": "code",
   "execution_count": 66,
   "metadata": {},
   "outputs": [],
   "source": [
    "from color_analysis import collage"
   ]
  },
  {
   "cell_type": "code",
   "execution_count": 70,
   "metadata": {},
   "outputs": [],
   "source": [
    "outfilename = 'resized10p_enhanced_9steps_lumfix'\n",
    "collage(FINAL.sorted_names, 400, 4, \"Imgs_done\", \"collage_\" + outfilename)"
   ]
  },
  {
   "cell_type": "markdown",
   "metadata": {},
   "source": [
    "## Save the best result"
   ]
  },
  {
   "cell_type": "code",
   "execution_count": 71,
   "metadata": {},
   "outputs": [],
   "source": [
    "final_df = pd.DataFrame(list(zip(FINAL.sorted_names, FINAL.sorted_RGBvalues)), columns = ['sorted_names', 'sorted_RGBcolors'])\n",
    "final_df.to_csv('collage/resized10p_enhanced_9steps_lumfix.csv', index = False)"
   ]
  },
  {
   "cell_type": "code",
   "execution_count": null,
   "metadata": {},
   "outputs": [],
   "source": []
  }
 ],
 "metadata": {
  "kernelspec": {
   "display_name": "Python 3",
   "language": "python",
   "name": "python3"
  },
  "language_info": {
   "codemirror_mode": {
    "name": "ipython",
    "version": 3
   },
   "file_extension": ".py",
   "mimetype": "text/x-python",
   "name": "python",
   "nbconvert_exporter": "python",
   "pygments_lexer": "ipython3",
   "version": "3.6.9"
  }
 },
 "nbformat": 4,
 "nbformat_minor": 2
}
